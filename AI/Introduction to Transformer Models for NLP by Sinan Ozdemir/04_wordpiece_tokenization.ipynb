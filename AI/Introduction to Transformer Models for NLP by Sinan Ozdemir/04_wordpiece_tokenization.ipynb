{
 "cells": [
  {
   "cell_type": "code",
   "execution_count": 10,
   "metadata": {},
   "outputs": [],
   "source": [
    "from transformers import BertTokenizer, BertModel\n",
    "import torch\n",
    "from sklearn.metrics.pairwise import cosine_similarity"
   ]
  },
  {
   "cell_type": "code",
   "execution_count": 11,
   "metadata": {},
   "outputs": [
    {
     "name": "stdout",
     "output_type": "stream",
     "text": [
      "Bert base uncased vocab: 30522\n"
     ]
    }
   ],
   "source": [
    "model = BertModel.from_pretrained(\"bert-base-uncased\")\n",
    "tokenizer = BertTokenizer.from_pretrained(\"bert-base-uncased\")\n",
    "print(\"Bert base uncased vocab: \"+str(len(tokenizer)))"
   ]
  },
  {
   "cell_type": "code",
   "execution_count": 12,
   "metadata": {},
   "outputs": [
    {
     "name": "stdout",
     "output_type": "stream",
     "text": [
      "[101, 1037, 3722, 6251, 2013, 8254, 2319, 999, 102]\n"
     ]
    }
   ],
   "source": [
    "sentence='A simple sentence from Sinan !'\n",
    "tokens=tokenizer.encode(sentence)\n",
    "print(tokens)"
   ]
  },
  {
   "cell_type": "code",
   "execution_count": 13,
   "metadata": {},
   "outputs": [
    {
     "data": {
      "text/plain": [
       "'[CLS] a simple sentence from sinan! [SEP]'"
      ]
     },
     "execution_count": 13,
     "metadata": {},
     "output_type": "execute_result"
    }
   ],
   "source": [
    "tokenizer.decode(tokens)"
   ]
  },
  {
   "cell_type": "code",
   "execution_count": 14,
   "metadata": {},
   "outputs": [
    {
     "name": "stdout",
     "output_type": "stream",
     "text": [
      "{'input_ids': [101, 1037, 3722, 6251, 2013, 8254, 2319, 999, 102], 'token_type_ids': [0, 0, 0, 0, 0, 0, 0, 0, 0], 'attention_mask': [1, 1, 1, 1, 1, 1, 1, 1, 1]}\n"
     ]
    }
   ],
   "source": [
    "sentence='A simple sentence from Sinan !'\n",
    "tokens=tokenizer.encode_plus(sentence)\n",
    "print(tokens)"
   ]
  },
  {
   "cell_type": "code",
   "execution_count": 15,
   "metadata": {},
   "outputs": [
    {
     "data": {
      "text/plain": [
       "{'input_ids': [101, 1037, 3722, 6251, 2013, 8254, 2319, 999, 102], 'token_type_ids': [0, 0, 0, 0, 0, 0, 0, 0, 0], 'attention_mask': [1, 1, 1, 1, 1, 1, 1, 1, 1]}"
      ]
     },
     "execution_count": 15,
     "metadata": {},
     "output_type": "execute_result"
    }
   ],
   "source": [
    "tokenizer(sentence)"
   ]
  },
  {
   "cell_type": "code",
   "execution_count": 17,
   "metadata": {},
   "outputs": [],
   "source": [
    "tokens_1=tokenizer.encode('i love my pet python')\n",
    "tokens_2=tokenizer.encode('i love coding in python')\n",
    "tokens_1_embedding=model(torch.tensor(tokens_1).unsqueeze(0))[0][:,5,:].detach().numpy()\n",
    "tokens_2_embedding=model(torch.tensor(tokens_2).unsqueeze(0))[0][:,5,:].detach().numpy()\n",
    "snake_embedding=model(torch.tensor(tokenizer.encode('snake')).unsqueeze(0))[0][:,1,:].detach().numpy()\n",
    "programming_embedding=model(torch.tensor(tokenizer.encode('programming')).unsqueeze(0))[0][:,1,:].detach().numpy()\n"
   ]
  },
  {
   "cell_type": "code",
   "execution_count": 18,
   "metadata": {},
   "outputs": [
    {
     "name": "stdout",
     "output_type": "stream",
     "text": [
      "[[0.74246204]]\n",
      "[[0.62740535]]\n",
      "[[0.6928657]]\n",
      "[[0.49864414]]\n",
      "[[0.5843477]]\n",
      "[[0.5614742]]\n"
     ]
    }
   ],
   "source": [
    "print(cosine_similarity(tokens_1_embedding,tokens_2_embedding))\n",
    "print(cosine_similarity(snake_embedding,programming_embedding))\n",
    "print(cosine_similarity(tokens_1_embedding,snake_embedding))\n",
    "print(cosine_similarity(tokens_1_embedding,programming_embedding))\n",
    "print(cosine_similarity(tokens_2_embedding,snake_embedding))\n",
    "print(cosine_similarity(tokens_2_embedding,programming_embedding))"
   ]
  }
 ],
 "metadata": {
  "kernelspec": {
   "display_name": "pytorch_env",
   "language": "python",
   "name": "python3"
  },
  "language_info": {
   "codemirror_mode": {
    "name": "ipython",
    "version": 3
   },
   "file_extension": ".py",
   "mimetype": "text/x-python",
   "name": "python",
   "nbconvert_exporter": "python",
   "pygments_lexer": "ipython3",
   "version": "3.8.20"
  }
 },
 "nbformat": 4,
 "nbformat_minor": 2
}
