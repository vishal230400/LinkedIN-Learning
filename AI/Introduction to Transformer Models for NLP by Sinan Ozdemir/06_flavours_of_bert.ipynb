{
 "cells": [
  {
   "cell_type": "code",
   "execution_count": 17,
   "metadata": {},
   "outputs": [],
   "source": [
    "from transformers import pipeline"
   ]
  },
  {
   "cell_type": "code",
   "execution_count": 18,
   "metadata": {},
   "outputs": [
    {
     "name": "stderr",
     "output_type": "stream",
     "text": [
      "Some weights of the model checkpoint at bert-base-cased were not used when initializing BertForMaskedLM: ['bert.pooler.dense.bias', 'bert.pooler.dense.weight', 'cls.seq_relationship.bias', 'cls.seq_relationship.weight']\n",
      "- This IS expected if you are initializing BertForMaskedLM from the checkpoint of a model trained on another task or with another architecture (e.g. initializing a BertForSequenceClassification model from a BertForPreTraining model).\n",
      "- This IS NOT expected if you are initializing BertForMaskedLM from the checkpoint of a model that you expect to be exactly identical (initializing a BertForSequenceClassification model from a BertForSequenceClassification model).\n",
      "Hardware accelerator e.g. GPU is available in the environment, but no `device` argument is passed to the `Pipeline` object. Model will be on CPU.\n"
     ]
    },
    {
     "name": "stdout",
     "output_type": "stream",
     "text": [
      "<class 'transformers.models.bert.modeling_bert.BertForMaskedLM'>\n",
      "If you don't i** at the sign, you will get a ticket\n",
      "Token: look. Score: 47.00%\n",
      "Token: stop. Score: 43.15%\n",
      "Token: glance. Score: 0.83%\n",
      "Token: wait. Score: 0.76%\n",
      "Token: turn. Score: 0.65%\n"
     ]
    }
   ],
   "source": [
    "nlp=pipeline(\"fill-mask\",model=\"bert-base-cased\")\n",
    "print(type(nlp.model))\n",
    "preds=nlp(f\"If you don't {nlp.tokenizer.mask_token} at the sign, you will get a ticket\")\n",
    "print(\"If you don't i** at the sign, you will get a ticket\")\n",
    "for p in preds:\n",
    "    print(f\"Token: {p['token_str']}. Score: {100*p['score']:,.2f}%\")"
   ]
  },
  {
   "cell_type": "code",
   "execution_count": 19,
   "metadata": {},
   "outputs": [
    {
     "name": "stderr",
     "output_type": "stream",
     "text": [
      "Hardware accelerator e.g. GPU is available in the environment, but no `device` argument is passed to the `Pipeline` object. Model will be on CPU.\n"
     ]
    },
    {
     "name": "stdout",
     "output_type": "stream",
     "text": [
      "<class 'transformers.models.roberta.modeling_roberta.RobertaForMaskedLM'>\n",
      "If you don't i** at the sign, you will get a ticket\n",
      "Token:  look. Score: 43.92%\n",
      "Token:  stop. Score: 40.90%\n",
      "Token:  stay. Score: 3.20%\n",
      "Token:  stand. Score: 2.20%\n",
      "Token:  wave. Score: 0.93%\n"
     ]
    }
   ],
   "source": [
    "nlp=pipeline(\"fill-mask\",model=\"roberta-base\")\n",
    "print(type(nlp.model))\n",
    "preds=nlp(f\"If you don't {nlp.tokenizer.mask_token} at the sign, you will get a ticket\")\n",
    "print(\"If you don't i** at the sign, you will get a ticket\")\n",
    "for p in preds:\n",
    "    print(f\"Token: {p['token_str']}. Score: {100*p['score']:,.2f}%\")"
   ]
  },
  {
   "cell_type": "code",
   "execution_count": 20,
   "metadata": {},
   "outputs": [
    {
     "name": "stderr",
     "output_type": "stream",
     "text": [
      "Some weights of the model checkpoint at distilroberta-base were not used when initializing RobertaForMaskedLM: ['roberta.pooler.dense.bias', 'roberta.pooler.dense.weight']\n",
      "- This IS expected if you are initializing RobertaForMaskedLM from the checkpoint of a model trained on another task or with another architecture (e.g. initializing a BertForSequenceClassification model from a BertForPreTraining model).\n",
      "- This IS NOT expected if you are initializing RobertaForMaskedLM from the checkpoint of a model that you expect to be exactly identical (initializing a BertForSequenceClassification model from a BertForSequenceClassification model).\n",
      "Hardware accelerator e.g. GPU is available in the environment, but no `device` argument is passed to the `Pipeline` object. Model will be on CPU.\n"
     ]
    },
    {
     "name": "stdout",
     "output_type": "stream",
     "text": [
      "<class 'transformers.models.roberta.modeling_roberta.RobertaForMaskedLM'>\n",
      "If you don't i** at the sign, you will get a ticket\n",
      "Token:  stop. Score: 41.27%\n",
      "Token:  look. Score: 7.81%\n",
      "Token:  stare. Score: 4.57%\n",
      "Token:  arrive. Score: 4.44%\n",
      "Token:  park. Score: 3.57%\n"
     ]
    }
   ],
   "source": [
    "nlp=pipeline(\"fill-mask\",model=\"distilroberta-base\")\n",
    "print(type(nlp.model))\n",
    "preds=nlp(f\"If you don't {nlp.tokenizer.mask_token} at the sign, you will get a ticket\")\n",
    "print(\"If you don't i** at the sign, you will get a ticket\")\n",
    "for p in preds:\n",
    "    print(f\"Token: {p['token_str']}. Score: {100*p['score']:,.2f}%\")"
   ]
  }
 ],
 "metadata": {
  "kernelspec": {
   "display_name": "pytorch_env",
   "language": "python",
   "name": "python3"
  },
  "language_info": {
   "codemirror_mode": {
    "name": "ipython",
    "version": 3
   },
   "file_extension": ".py",
   "mimetype": "text/x-python",
   "name": "python",
   "nbconvert_exporter": "python",
   "pygments_lexer": "ipython3",
   "version": "3.8.20"
  }
 },
 "nbformat": 4,
 "nbformat_minor": 2
}
