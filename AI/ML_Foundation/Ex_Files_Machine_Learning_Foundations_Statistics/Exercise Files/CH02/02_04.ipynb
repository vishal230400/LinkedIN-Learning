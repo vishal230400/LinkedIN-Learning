{
 "cells": [
  {
   "cell_type": "markdown",
   "id": "6c79d4cb",
   "metadata": {},
   "source": [
    "## The percentile"
   ]
  },
  {
   "cell_type": "code",
   "execution_count": 1,
   "id": "656c3e22",
   "metadata": {},
   "outputs": [],
   "source": [
    "import numpy as np"
   ]
  },
  {
   "cell_type": "code",
   "execution_count": 2,
   "id": "aaa599c9",
   "metadata": {},
   "outputs": [
    {
     "name": "stdout",
     "output_type": "stream",
     "text": [
      "1340.0\n"
     ]
    }
   ],
   "source": [
    "sat_results = [610,1060,1270,675,820,940,900,1340,1420,625,850,1210,910,1200,1120,870,600,1135,1160,1050,960,500,1200,1000,800,1137,810,1230,680,1130,602,1015,1010,1170,1310,670,1420,1005,1135,1600,1540]\n",
    "# finding the 90 percentile\n",
    "sat_percentile = np.percentile(sat_results, 90)\n",
    "print(sat_percentile)"
   ]
  },
  {
   "cell_type": "code",
   "execution_count": null,
   "id": "b61a44a5",
   "metadata": {},
   "outputs": [],
   "source": []
  }
 ],
 "metadata": {
  "kernelspec": {
   "display_name": "Python 3",
   "language": "python",
   "name": "python3"
  },
  "language_info": {
   "codemirror_mode": {
    "name": "ipython",
    "version": 3
   },
   "file_extension": ".py",
   "mimetype": "text/x-python",
   "name": "python",
   "nbconvert_exporter": "python",
   "pygments_lexer": "ipython3",
   "version": "3.8.20"
  }
 },
 "nbformat": 4,
 "nbformat_minor": 5
}
