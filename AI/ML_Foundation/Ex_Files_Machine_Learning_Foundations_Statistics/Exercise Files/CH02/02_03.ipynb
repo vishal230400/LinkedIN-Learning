{
 "cells": [
  {
   "cell_type": "code",
   "execution_count": 1,
   "id": "842192cd",
   "metadata": {},
   "outputs": [],
   "source": [
    "import numpy as np\n",
    "import scipy.stats as sp"
   ]
  },
  {
   "cell_type": "code",
   "execution_count": 2,
   "id": "d5221a99",
   "metadata": {},
   "outputs": [],
   "source": [
    "salaries=np.array([70000,70000,70000,70000,70000,90000,90000,90000,90000,90000,90000,90000,90000,90000,90000,160000,160000,160000,160000,160000,180000,180000,180000,180000,230000])"
   ]
  },
  {
   "cell_type": "code",
   "execution_count": 3,
   "id": "348a104b",
   "metadata": {},
   "outputs": [
    {
     "data": {
      "text/plain": [
       "120000.0"
      ]
     },
     "execution_count": 3,
     "metadata": {},
     "output_type": "execute_result"
    }
   ],
   "source": [
    "np.mean(salaries)"
   ]
  },
  {
   "cell_type": "code",
   "execution_count": 4,
   "id": "b1f811e3",
   "metadata": {},
   "outputs": [
    {
     "data": {
      "text/plain": [
       "90000.0"
      ]
     },
     "execution_count": 4,
     "metadata": {},
     "output_type": "execute_result"
    }
   ],
   "source": [
    "np.median(salaries)"
   ]
  },
  {
   "cell_type": "code",
   "execution_count": 5,
   "id": "84cd875f",
   "metadata": {},
   "outputs": [
    {
     "name": "stderr",
     "output_type": "stream",
     "text": [
      "/var/folders/tq/jtgfkbln5bv4lmlbq2tvnq1h0000gn/T/ipykernel_60577/3299520229.py:1: FutureWarning: Unlike other reduction functions (e.g. `skew`, `kurtosis`), the default behavior of `mode` typically preserves the axis it acts along. In SciPy 1.11.0, this behavior will change: the default value of `keepdims` will become False, the `axis` over which the statistic is taken will be eliminated, and the value None will no longer be accepted. Set `keepdims` to True or False to avoid this warning.\n",
      "  sp.mode(salaries)\n"
     ]
    },
    {
     "data": {
      "text/plain": [
       "ModeResult(mode=array([90000]), count=array([10]))"
      ]
     },
     "execution_count": 5,
     "metadata": {},
     "output_type": "execute_result"
    }
   ],
   "source": [
    "sp.mode(salaries)"
   ]
  },
  {
   "cell_type": "code",
   "execution_count": null,
   "id": "0311f327",
   "metadata": {},
   "outputs": [],
   "source": []
  }
 ],
 "metadata": {
  "kernelspec": {
   "display_name": "Python 3",
   "language": "python",
   "name": "python3"
  },
  "language_info": {
   "codemirror_mode": {
    "name": "ipython",
    "version": 3
   },
   "file_extension": ".py",
   "mimetype": "text/x-python",
   "name": "python",
   "nbconvert_exporter": "python",
   "pygments_lexer": "ipython3",
   "version": "3.8.20"
  }
 },
 "nbformat": 4,
 "nbformat_minor": 5
}
