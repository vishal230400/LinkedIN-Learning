{
 "cells": [
  {
   "cell_type": "markdown",
   "id": "6f120279",
   "metadata": {},
   "source": [
    "## Calculating partial derivatives"
   ]
  },
  {
   "cell_type": "code",
   "execution_count": 1,
   "id": "a593492b",
   "metadata": {},
   "outputs": [],
   "source": [
    "from sympy import *"
   ]
  },
  {
   "cell_type": "code",
   "execution_count": 2,
   "id": "b7d6d7db",
   "metadata": {},
   "outputs": [
    {
     "name": "stdout",
     "output_type": "stream",
     "text": [
      "x**2 + 5*x*y*z + y**3 + z**4\n",
      " f_x= 2*x + 5*y*z\n",
      " f_y= 5*x*z + 3*y**2\n",
      " f_z= 5*x*y + 4*z**3\n"
     ]
    }
   ],
   "source": [
    "x, y, z = symbols('x, y, z', real=True)\n",
    "f = x**2 + y**3+z**4+5*x*y*z\n",
    "print(f)\n",
    "\n",
    "for var in [x, y, z]:\n",
    "    print(\" f_\" + str(var) + \"=\",f.diff(var))"
   ]
  },
  {
   "cell_type": "code",
   "execution_count": null,
   "id": "6c32c6ef",
   "metadata": {},
   "outputs": [],
   "source": []
  }
 ],
 "metadata": {
  "kernelspec": {
   "display_name": "Python 3",
   "language": "python",
   "name": "python3"
  },
  "language_info": {
   "codemirror_mode": {
    "name": "ipython",
    "version": 3
   },
   "file_extension": ".py",
   "mimetype": "text/x-python",
   "name": "python",
   "nbconvert_exporter": "python",
   "pygments_lexer": "ipython3",
   "version": "3.8.20"
  }
 },
 "nbformat": 4,
 "nbformat_minor": 5
}
